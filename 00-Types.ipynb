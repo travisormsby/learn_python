{
 "cells": [
  {
   "attachments": {},
   "cell_type": "markdown",
   "metadata": {},
   "source": [
    "# Types"
   ]
  },
  {
   "attachments": {},
   "cell_type": "markdown",
   "metadata": {},
   "source": [
    "You may have already noticed looking at the attribute table of a feature class, that some fields are text, some are numeric, some are dates, etc. Python has types too, and you will need to be familiar with them to work effectively with Python.\n",
    "\n",
    "The goal of this notebook is to help you identify Python's most basic types."
   ]
  },
  {
   "attachments": {},
   "cell_type": "markdown",
   "metadata": {},
   "source": [
    "## Step 1: Create some data"
   ]
  },
  {
   "attachments": {},
   "cell_type": "markdown",
   "metadata": {},
   "source": [
    "The cell below will create four pieces of information and store them in a variable. The variable name is on the left side and the variable's value is on the right. \n",
    "\n",
    "Run the cell by clicking on it, then pressing ctrl+enter. Running this particular cell won't produce any output, but you should see a number appear on the left of the cell when it has successfully run."
   ]
  },
  {
   "cell_type": "code",
   "execution_count": null,
   "metadata": {},
   "outputs": [],
   "source": [
    "a = \"Text\"\n",
    "b = 1\n",
    "c = 1.1\n",
    "d = True"
   ]
  },
  {
   "attachments": {},
   "cell_type": "markdown",
   "metadata": {},
   "source": [
    "### Key takeaway: Information can be stored in variables for later use"
   ]
  },
  {
   "attachments": {},
   "cell_type": "markdown",
   "metadata": {},
   "source": [
    "## Step 2: Make Python figure out the type"
   ]
  },
  {
   "attachments": {},
   "cell_type": "markdown",
   "metadata": {},
   "source": [
    "Each of the variables above represents data of a different type. The `type` function can be used to figure out the type of any value. \n",
    "\n",
    "Run the cell below to get the type of `a`. This cell will produce an output below the cell."
   ]
  },
  {
   "cell_type": "code",
   "execution_count": null,
   "metadata": {},
   "outputs": [],
   "source": [
    "type(a)"
   ]
  },
  {
   "attachments": {},
   "cell_type": "markdown",
   "metadata": {},
   "source": [
    "The value represented by `a` is a string (abbreviated `str`). This type is for representing text. The other basic types in Python are:\n",
    "\n",
    "* Integer (`int`) to represent integers\n",
    "* Float (`float`) to represent any numeric value\n",
    "* Boolean (`bool`) to represent the binary states true and false\n",
    "\n",
    "In the cell below, use the type function to find out the type of `b`, `c`, and `d`."
   ]
  },
  {
   "cell_type": "code",
   "execution_count": null,
   "metadata": {},
   "outputs": [],
   "source": []
  },
  {
   "attachments": {},
   "cell_type": "markdown",
   "metadata": {},
   "source": [
    "### Key takeaway: Python can tell you the type of any value"
   ]
  },
  {
   "attachments": {},
   "cell_type": "markdown",
   "metadata": {},
   "source": [
    "## Step 3: You figure out the type"
   ]
  },
  {
   "attachments": {},
   "cell_type": "markdown",
   "metadata": {},
   "source": [
    "Certain characteristics of a value can help you determine its type.\n",
    "\n",
    "* A `str` is surrounded by quotation marks. It doesn't matter if they're Double quotes (`\"`) or single quotes (`'`).\n",
    "* An `int` is a numeric value without a decimal point.\n",
    "* A `float` is a numeric value with a decimal point. \n",
    "* A `bool` is either `True` or `False`. Note the lack of quotation marks (it is not a `str`) and the capitalization.\n",
    "\n",
    "You might have also noticed that the notebook colored some values differently. This is called syntax highlighting, and is another clue you can use to figure out the type of a value.\n",
    "\n",
    "In the cell below, create four new variables: `e`, `f`, `g`, and `h` that represent a `str`, `int`, `float`, and `bool` respectively. Then run the cell."
   ]
  },
  {
   "cell_type": "code",
   "execution_count": null,
   "metadata": {},
   "outputs": [],
   "source": []
  },
  {
   "attachments": {},
   "cell_type": "markdown",
   "metadata": {},
   "source": [
    "In the cell below, use the `type` function to make sure the variables you created have the types you intended."
   ]
  },
  {
   "cell_type": "code",
   "execution_count": null,
   "metadata": {},
   "outputs": [],
   "source": []
  },
  {
   "attachments": {},
   "cell_type": "markdown",
   "metadata": {},
   "source": [
    "### Key takeaway: Different data are represented different ways in code"
   ]
  },
  {
   "attachments": {},
   "cell_type": "markdown",
   "metadata": {},
   "source": [
    "## Step 4: Work with different data types"
   ]
  },
  {
   "attachments": {},
   "cell_type": "markdown",
   "metadata": {},
   "source": [
    "Look at the cells below and guess what will happen in each case. Then run each cell."
   ]
  },
  {
   "cell_type": "code",
   "execution_count": null,
   "metadata": {},
   "outputs": [],
   "source": [
    "a + e"
   ]
  },
  {
   "cell_type": "code",
   "execution_count": null,
   "metadata": {},
   "outputs": [],
   "source": [
    "b + f"
   ]
  },
  {
   "cell_type": "code",
   "execution_count": null,
   "metadata": {},
   "outputs": [],
   "source": [
    "a + b"
   ]
  },
  {
   "attachments": {},
   "cell_type": "markdown",
   "metadata": {},
   "source": [
    "Did you guess right? Even if you didn't, the important thing is that you made a guess. That's a good habit to get into before running code.\n",
    "\n",
    "In this case, you should notice that Python works differently depending on the type it's working with. Always make sure that you are using the right type for the work you want to do."
   ]
  },
  {
   "attachments": {},
   "cell_type": "markdown",
   "metadata": {},
   "source": [
    "### Key Takeaway: Types matter"
   ]
  },
  {
   "attachments": {},
   "cell_type": "markdown",
   "metadata": {},
   "source": [
    "## Summary "
   ]
  },
  {
   "attachments": {},
   "cell_type": "markdown",
   "metadata": {},
   "source": [
    "Python has four basic types:\n",
    "\n",
    "* `str` values are for text and are always enclosed in either single or double quotes\n",
    "* `int` values are for numbers an never have a decimal point\n",
    "* `float` values are for numbers and always have a decimal point\n",
    "* `bool` values are for binary values, `True` or `False`. They are always capitalized and never have quotation marks.\n",
    "\n",
    "You need to know the type of the values you work with, because Python behaves differently depending on a value's type."
   ]
  }
 ],
 "metadata": {
  "kernelspec": {
   "display_name": "learn_python",
   "language": "python",
   "name": "python3"
  },
  "language_info": {
   "codemirror_mode": {
    "name": "ipython",
    "version": 3
   },
   "file_extension": ".py",
   "mimetype": "text/x-python",
   "name": "python",
   "nbconvert_exporter": "python",
   "pygments_lexer": "ipython3",
   "version": "3.10.6"
  },
  "orig_nbformat": 4
 },
 "nbformat": 4,
 "nbformat_minor": 2
}

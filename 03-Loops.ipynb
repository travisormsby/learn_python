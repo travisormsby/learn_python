{
 "cells": [
  {
   "attachments": {},
   "cell_type": "markdown",
   "metadata": {},
   "source": [
    "# Loops "
   ]
  },
  {
   "attachments": {},
   "cell_type": "markdown",
   "metadata": {},
   "source": [
    "Even the biggest GIS fans will admit that sometimes the work amounts to doing the same thing over and over again. We could leave that sort of soul-crushing drudgery to the interns, or we can use loops to automate it. \n",
    "\n",
    "The goal of this notebook is to help you use loops to free yourself from repetitive tasks."
   ]
  }
 ],
 "metadata": {
  "language_info": {
   "name": "python"
  },
  "orig_nbformat": 4
 },
 "nbformat": 4,
 "nbformat_minor": 2
}

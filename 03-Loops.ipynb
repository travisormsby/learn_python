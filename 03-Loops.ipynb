{
 "cells": [
  {
   "cell_type": "markdown",
   "metadata": {},
   "source": [
    "# Loops "
   ]
  },
  {
   "cell_type": "markdown",
   "metadata": {},
   "source": [
    "Even the biggest GIS fans will admit that sometimes the work amounts to doing the same thing over and over again. We could leave that sort of soul-crushing drudgery to the interns, or we can use loops to automate it. \n",
    "\n",
    "The goal of this notebook is to help you use loops to free yourself from repetitive tasks."
   ]
  },
  {
   "cell_type": "markdown",
   "metadata": {},
   "source": [
    "## Step 1: Make a list"
   ]
  },
  {
   "cell_type": "markdown",
   "metadata": {},
   "source": [
    "If you have 100 things to do, one way to think about it is that you have 100 separate tasks. But a better way to think about it is that you have a single bucket with 100 things in it. It's not better in some new-agey, mystic healing, \"you gotta change your mindset, man\" kind of way. It's better because it makes it much easier to write code to deal with all those tasks.\n",
    "\n",
    "Python has lots of different kinds of buckets we can create, but the most fundamental one is the list. Run the cell below to create a list and check its type."
   ]
  },
  {
   "cell_type": "code",
   "execution_count": 19,
   "metadata": {},
   "outputs": [
    {
     "data": {
      "text/plain": [
       "<class 'list'>"
      ]
     },
     "execution_count": 19,
     "metadata": {},
     "output_type": "execute_result"
    }
   ],
   "source": [
    "fcList1 = [r\"main.boundary\", r\"main.points\"]\n",
    "type(fcList1)"
   ]
  },
  {
   "cell_type": "markdown",
   "metadata": {},
   "source": [
    "You should notice a few things from the code above:\n",
    "\n",
    "* The elements of a list are separated by a comma (`,`)\n",
    "* The elements of a list are enclosed in square brackets (`[]`)\n",
    "* A list is its own type\n",
    "\n",
    "Because a list is a bucket (Python nerds will call it a container), you can reach inside and pull out an individual element. Run the cells below to access the first element of the list and check its type."
   ]
  },
  {
   "cell_type": "code",
   "execution_count": 20,
   "metadata": {},
   "outputs": [
    {
     "data": {
      "text/plain": [
       "'main.boundary'"
      ]
     },
     "execution_count": 20,
     "metadata": {},
     "output_type": "execute_result"
    }
   ],
   "source": [
    "fcList1[0]"
   ]
  },
  {
   "cell_type": "code",
   "execution_count": 21,
   "metadata": {},
   "outputs": [
    {
     "data": {
      "text/plain": [
       "<class 'str'>"
      ]
     },
     "execution_count": 21,
     "metadata": {},
     "output_type": "execute_result"
    }
   ],
   "source": [
    "type(fcList1[0])"
   ]
  },
  {
   "cell_type": "markdown",
   "metadata": {},
   "source": [
    "There are a few more things you should take away from these cells:\n",
    "\n",
    "* Each element of a list has an index number\n",
    "* That number starts at 0 (not 1) and increases by one for each subsequent element\n",
    "* You can access an individual element by putting its index number in brackets after the list. This is called bracket notation.\n",
    "* The element of the list has its own type that is separate from the list that contains it\n",
    "\n",
    "In the cell below, use bracket notation to access the second element of the list."
   ]
  },
  {
   "cell_type": "markdown",
   "metadata": {},
   "source": [
    "### Key takeaway: A list is a bucket to hold other values"
   ]
  },
  {
   "cell_type": "markdown",
   "metadata": {},
   "source": [
    "## Step 2: Get ArcPy to make the list"
   ]
  },
  {
   "cell_type": "markdown",
   "metadata": {},
   "source": [
    "Something else you should have noticed in the first step is that somebody had to find values for all the elements of the list and then type them out by hand, like a barbarian. The whole point of this notebook is to reduce the amount of manual work you need to do. \n",
    "\n",
    "Fortunately, ArcPy has a bunch of functions that create lists for you. In order to use most of them, you need to set the workspace where you want ArcPy to look. \n",
    "\n",
    "In this case, you want all the feature classes in a geodatabase. In the cell below, set the workspace to the full file path of the `learn_python` geodatabase. Hint: the 02-Describe notebook shows you how to set the workspace."
   ]
  },
  {
   "cell_type": "code",
   "execution_count": 22,
   "metadata": {},
   "outputs": [],
   "source": [
    "arcpy.env.workspace = r\"C:\\Users\\tra11070\\OneDrive - Esri\\Documents\\PTL\\apps\\learn_python\\data\\learn_python.geodatabase\""
   ]
  },
  {
   "cell_type": "markdown",
   "metadata": {},
   "source": [
    "Run the cell below to create the list of feature classes in this geodatabase"
   ]
  },
  {
   "cell_type": "code",
   "execution_count": 23,
   "metadata": {},
   "outputs": [],
   "source": [
    "fcList2 = arcpy.ListFeatureClasses()"
   ]
  },
  {
   "cell_type": "markdown",
   "metadata": {},
   "source": [
    "In the cells below access the individual elements of `fcList2` and verify that the list was correctly created."
   ]
  },
  {
   "cell_type": "code",
   "execution_count": 29,
   "metadata": {},
   "outputs": [
    {
     "data": {
      "text/plain": [
       "'main.boundary'"
      ]
     },
     "execution_count": 29,
     "metadata": {},
     "output_type": "execute_result"
    }
   ],
   "source": []
  },
  {
   "cell_type": "code",
   "execution_count": null,
   "metadata": {},
   "outputs": [],
   "source": []
  },
  {
   "cell_type": "markdown",
   "metadata": {},
   "source": [
    "### Key takeaway: Making lists by hand is for suckers"
   ]
  },
  {
   "cell_type": "markdown",
   "metadata": {},
   "source": [
    "## Step 3: Loop through the list"
   ]
  },
  {
   "cell_type": "markdown",
   "metadata": {},
   "source": [
    "Now that you have a list, you can get Python to repeat a task for every element in the list. Run the cell below to put a 10 kilometer buffer around every feature in every feature class in the list."
   ]
  },
  {
   "cell_type": "code",
   "execution_count": 32,
   "metadata": {},
   "outputs": [],
   "source": [
    "for fc in fcList2:\n",
    "    outputName = fc + \"_buffer10km\"\n",
    "    arcpy.analysis.Buffer(fc, outputName, \"10 kilometers\")"
   ]
  },
  {
   "cell_type": "markdown",
   "metadata": {},
   "source": [
    "There's a lot going on in these 3 lines of code:\n",
    "\n",
    "```Python\n",
    "for fc in fcList2:\n",
    "```\n",
    "\n",
    "This is the part that sets up the loop. `fclist` is the list you created earlier that has the name of every feature class in the geodatabase. `for` and `in` are special Python keywords. `fc` is a new variable name. \n",
    "\n",
    "The loop will take the first element in `fcList2`, assign that value to the variable `fc`. Then Python executes the code below this line. When that code finishes, the loop changes `fc` to the value of the second element in `fcList2` and runs the same code again. And this process keeps going until it has gone through every element in `fcList2`.\n",
    "\n",
    "In this case, the first time through the loop, `fc` will have a value of `\"main.points\"`. The second time through the loop, it will have a value of `\"main.boundary\"`.\n",
    "\n",
    "```Python\n",
    "    outputName = fc + \"_buffer10km\"\n",
    "```\n",
    "\n",
    "This line creates a new value that appends `\"_buffer\"` to the end of `fc`. Since the value of `fc` changes every time through the loop, `outputName` will also change. This new value can be assigned to the output of the geoprocessing tool. That's important because if the output had a static name, each iteration through the loop would overwrite the output from the previous iteration.\n",
    "\n",
    "In this case, the first time through the loop, `outputName` will have a value of `\"main.points_buffer10km\"`. The second time through the loop, it will have a value of `\"main.boundary_buffer10km\"`.\n",
    "\n",
    "```Python\n",
    "    arcpy.analysis.Buffer(fc, outputName, \"10 kilometers\")\n",
    "```\n",
    "\n",
    "This line runs the Buffer geoprocessing tool, using the changing values of `fc` and `outputName`. The buffer distance is static, so that will be the same in every case.\n",
    "\n",
    "In the cell below, write you own loop to add a field with the same name, type, and alias to every feature class in the `learn_python` geodatabase. Hint: `fcList2` doesn't dynamically update, so it won't include values for the new Buffer output feature classes you just added."
   ]
  },
  {
   "cell_type": "code",
   "execution_count": null,
   "metadata": {},
   "outputs": [],
   "source": []
  },
  {
   "cell_type": "markdown",
   "metadata": {},
   "source": [
    "### Key takeaway: Loops are how you code repetitive tasks"
   ]
  },
  {
   "cell_type": "markdown",
   "metadata": {},
   "source": [
    "## Summary"
   ]
  },
  {
   "cell_type": "markdown",
   "metadata": {},
   "source": [
    "If you have a task that you need to repeat over and over again, you should automate it with a loop. ArcPy can help you create lists of inputs, and then pass each element in the list to the loop to process them separately. "
   ]
  }
 ],
 "metadata": {
  "kernelspec": {
   "display_name": "ArcGISPro",
   "language": "Python",
   "name": "python3"
  },
  "language_info": {
   "file_extension": ".py",
   "name": "python",
   "version": "3"
  }
 },
 "nbformat": 4,
 "nbformat_minor": 2
}

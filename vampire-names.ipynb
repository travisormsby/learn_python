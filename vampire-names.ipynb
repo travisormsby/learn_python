{
 "cells": [
  {
   "cell_type": "code",
   "execution_count": 2,
   "metadata": {},
   "outputs": [],
   "source": [
    "vfn = {\n",
    "    'a': 'Dracula',\n",
    "    'b': 'Edward',\n",
    "    'c': 'Bella',\n",
    "    'd': 'Alice',\n",
    "    'z': 'Alvira',\n",
    "    'o': 'Mara',\n",
    "    'e': 'Layla',\n",
    "    'r': 'Vlad'\n",
    "}"
   ]
  },
  {
   "cell_type": "code",
   "execution_count": 3,
   "metadata": {},
   "outputs": [],
   "source": [
    "vln ={\n",
    "    'a': 'Bloodsucker',\n",
    "    'b': 'Cullen',\n",
    "    'c': 'Swan',\n",
    "    'd': 'DIEEEEEEEEEEEEE',\n",
    "    'z': 'Murderer',\n",
    "    'o': 'The shadow',\n",
    "    'e': 'Rampager',\n",
    "    'r': 'The Impaler'   \n",
    "}"
   ]
  },
  {
   "cell_type": "code",
   "execution_count": 26,
   "metadata": {},
   "outputs": [
    {
     "name": "stdout",
     "output_type": "stream",
     "text": [
      "['dominique', 'richardson']\n",
      "dominique\n"
     ]
    }
   ],
   "source": [
    "name = 'dominique richardson'\n",
    "name_list = name.split()\n",
    "print(name_list)\n",
    "print(name_list[0])"
   ]
  },
  {
   "cell_type": "code",
   "execution_count": 27,
   "metadata": {},
   "outputs": [
    {
     "name": "stdout",
     "output_type": "stream",
     "text": [
      "r\n"
     ]
    }
   ],
   "source": [
    "fname_lower = name_list[0].lower()\n",
    "lname_lower = name_list[-1].lower()\n",
    "print(lname_lower[0])"
   ]
  },
  {
   "cell_type": "code",
   "execution_count": 28,
   "metadata": {},
   "outputs": [
    {
     "name": "stdout",
     "output_type": "stream",
     "text": [
      "Alice\n",
      "The Impaler\n"
     ]
    }
   ],
   "source": [
    "second_letter = lname_lower[0]\n",
    "first_letter = fname_lower[0]\n",
    "print(vfn[first_letter])     \n",
    "print(vln[second_letter])"
   ]
  },
  {
   "cell_type": "code",
   "execution_count": null,
   "metadata": {},
   "outputs": [],
   "source": []
  }
 ],
 "metadata": {
  "kernelspec": {
   "display_name": "Python 3",
   "language": "python",
   "name": "python3"
  },
  "language_info": {
   "codemirror_mode": {
    "name": "ipython",
    "version": 3
   },
   "file_extension": ".py",
   "mimetype": "text/x-python",
   "name": "python",
   "nbconvert_exporter": "python",
   "pygments_lexer": "ipython3",
   "version": "3.7.3"
  }
 },
 "nbformat": 4,
 "nbformat_minor": 2
}

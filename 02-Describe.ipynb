{
 "cells": [
  {
   "cell_type": "markdown",
   "metadata": {},
   "source": [
    "# Describe"
   ]
  },
  {
   "cell_type": "markdown",
   "metadata": {},
   "source": [
    "The Arc in ArcGIS stands for \"always right-click\". That's how you get information about the stuff you're working with. But Python scripts can't right-click. They don't have a mouse, or even fingers. You still need the same information, but you're going to need to get it a different way. \n",
    "\n",
    "The goal of this notebook is to help you use the Describe function to get information you can use in your script."
   ]
  },
  {
   "cell_type": "markdown",
   "metadata": {},
   "source": [
    "## Step 1: Set the workspace"
   ]
  },
  {
   "cell_type": "markdown",
   "metadata": {},
   "source": [
    "There's a lot of folders on your computer. How is ArcPy supposed to know which one you want it to look in? An important part of working with data is setting the workspace, so ArcPy can figure out what you want.\n",
    "\n",
    "Run the cell below to figure out the current workspace."
   ]
  },
  {
   "cell_type": "code",
   "execution_count": 54,
   "metadata": {},
   "outputs": [
    {
     "data": {
      "text/plain": [
       "'C:\\\\Users\\\\tra11070\\\\OneDrive - Esri\\\\Documents\\\\PTL\\\\apps\\\\learn_python\\\\data'"
      ]
     },
     "execution_count": 54,
     "metadata": {},
     "output_type": "execute_result"
    }
   ],
   "source": [
    "arcpy.env.workspace"
   ]
  },
  {
   "cell_type": "markdown",
   "metadata": {},
   "source": [
    "The file path of the workspace is the where ArcPy will look for inputs and write outputs by default. Right now it is probably set to the default geodatabase for your project. If nothing showed up, the workspace isn't set.\n",
    "\n",
    "You can set the workspace to any folder or database. Run the cell below to set the workspace to the Windows Users directory. After you run the cell below, run the cell above again to see the current workspace."
   ]
  },
  {
   "cell_type": "code",
   "execution_count": 55,
   "metadata": {},
   "outputs": [],
   "source": [
    "arcpy.env.workspace = r\"C:\\Users\""
   ]
  },
  {
   "attachments": {},
   "cell_type": "markdown",
   "metadata": {},
   "source": [
    "There are a couple things you should have noticed about these two cells:\n",
    "\n",
    "* There is an `r` character in front of the file path string used to set the workspace directory\n",
    "* That file path string has a  single backslash (`\\`)\n",
    "* ArcPy showed two backslashes (`\\\\`) in the output\n",
    "\n",
    "For stupid reasons related to the Windows/Unix holy wars, Windows file path strings are hard to use in Python. You don't need to know the whole sordid history of the debacle, but you should know this:\n",
    "\n",
    "* Windows file paths have backslashes.\n",
    "* Python thinks backslashes in strings have a special meaning.\n",
    "* In the output, Python will often show file paths as having double backslashes. Typically this is fine.\n",
    "* When putting file path strings in your code, it's best to use copy/paste to avoid mistakes, which will usually end up giving you paths with single backslashes. When using single backslashes, put an `r` in front of the string to stop Python from treating any backslashes as special.\n",
    "\n",
    "In the cell below, set the workspace to the data folder inside the folder where this notebook is located."
   ]
  },
  {
   "cell_type": "code",
   "execution_count": 56,
   "metadata": {},
   "outputs": [],
   "source": []
  },
  {
   "cell_type": "markdown",
   "metadata": {},
   "source": [
    "### Key takeaway: You need to set the workspace, but file paths can be a pain"
   ]
  },
  {
   "cell_type": "markdown",
   "metadata": {},
   "source": [
    "## Step 2: Describe some data"
   ]
  },
  {
   "cell_type": "markdown",
   "metadata": {},
   "source": [
    "With the workspace set, you don't have to specify a big long file path to your data. ArcPy knows to look inside the workspace.\n",
    "\n",
    "Run the cell below to get information about the `main.points` feature class in the `learn_python` geodatabase in the workspace. \n",
    "\n",
    "Note: if the cell below returns an error, you most likely have set the workspace incorrectly. Edit the cell above to set the workspace to the data folder."
   ]
  },
  {
   "cell_type": "code",
   "execution_count": 57,
   "metadata": {
    "scrolled": false
   },
   "outputs": [
    {
     "data": {
      "text/html": [
       "<style>table td#td0  {font-weight: bold}</style><table class=\"notebook\"><colgroup><col style=\"width:45%\"></col><col style=\"width:55%\"></col></colgroup><tr><td id = \"td0\" title=\"catalogPath\">catalogPath</td><td title=\"C:\\Users\\tra11070\\OneDrive - Esri\\Documents\\PTL\\apps\\learn_python\\data\\learn_python.geodatabase/main.points\">C:\\Users\\tra11070\\OneDrive - Esri\\Documents\\PTL\\apps\\learn_python\\data\\learn_python.geodatabase/main.points</td></tr><tr><td id = \"td0\" title=\"dataType\">dataType</td><td title=\"FeatureClass\">FeatureClass</td></tr><tr><td id = \"td0\" title=\"shapeType\">shapeType</td><td title=\"Point\">Point</td></tr><tr><td id = \"td0\" title=\"hasM\">hasM</td><td title=\"False\">False</td></tr><tr><td id = \"td0\" title=\"hasZ\">hasZ</td><td title=\"False\">False</td></tr></table><div class=\"title\"><i class=\"chevron-open\" onClick=\"event.preventDefault();document.getElementById('0A80718F-2991-41BE-8EE5-CB58D23BC385').style.display =   document.getElementById('0A80718F-2991-41BE-8EE5-CB58D23BC385').style.display == 'none' ? 'block' : 'none';this.classList.toggle('chevron-closed');\"></i>fields</div><div id=\"0A80718F-2991-41BE-8EE5-CB58D23BC385\"><style>table td#td0  {font-weight: bold}</style><table class=\"notebook\"><colgroup><col style=\"width:45%\"></col><col style=\"width:55%\"></col></colgroup><tr><td id = \"td0\" title=\"OBJECTID\">OBJECTID</td><td title=\"OID\">OID</td></tr><tr><td id = \"td0\" title=\"lat\">lat</td><td title=\"Integer\">Integer</td></tr><tr><td id = \"td0\" title=\"lon\">lon</td><td title=\"Integer\">Integer</td></tr><tr><td id = \"td0\" title=\"Shape\">Shape</td><td title=\"Geometry\">Geometry</td></tr></table></div><div class=\"title\"><i class=\"chevron-open\" onClick=\"event.preventDefault();document.getElementById('AF5C7DC4-4763-4890-B78A-E2660B132259').style.display =   document.getElementById('AF5C7DC4-4763-4890-B78A-E2660B132259').style.display == 'none' ? 'block' : 'none';this.classList.toggle('chevron-closed');\"></i>spatialReference</div><div id=\"AF5C7DC4-4763-4890-B78A-E2660B132259\"><style>table td#td0  {font-weight: bold}</style><table class=\"notebook\"><colgroup><col style=\"width:45%\"></col><col style=\"width:55%\"></col></colgroup><tr><td id = \"td0\" title=\"name (Geographic Coordinate System)\">name (Geographic Coordinate System)</td><td title=\"GCS_WGS_1984\">GCS_WGS_1984</td></tr><tr><td id = \"td0\" title=\"factoryCode (WKID)\">factoryCode (WKID)</td><td title=\"4326\">4326</td></tr><tr><td id = \"td0\" title=\"angularUnitName (Angular Unit)\">angularUnitName (Angular Unit)</td><td title=\"Degree\">Degree</td></tr><tr><td id = \"td0\" title=\"datumName (Datum)\">datumName (Datum)</td><td title=\"D_WGS_1984\">D_WGS_1984</td></tr></table></div><p class=\"gpresult\">For additional help,     see <a href=\"#\" onclick=\"chrome.webview.postMessage('describe_helpid_120003794');return false;\">arcpy.Describe</a></p><br>"
      ],
      "text/plain": [
       "<geoprocessing describe data object object at 0x0000027947616870>"
      ]
     },
     "execution_count": 57,
     "metadata": {},
     "output_type": "execute_result"
    }
   ],
   "source": [
    "fc = r\"learn_python.geodatabase/main.points\"\n",
    "arcpy.Describe(fc)"
   ]
  },
  {
   "cell_type": "markdown",
   "metadata": {},
   "source": [
    "The `Describe` function gives you much of the same information you would have gotten by right-cicking on a feature class and choosing properties.\n",
    "\n",
    "In order to actually use the information in our script, though, it needs to be stored. That means assigning the output of the Describe function to a variable.\n",
    "\n",
    "Run the cell below to store all the information about `main.points` in a variable called `desc`."
   ]
  },
  {
   "cell_type": "code",
   "execution_count": 101,
   "metadata": {},
   "outputs": [],
   "source": [
    "fc = r\"learn_python.geodatabase\\main.points\"\n",
    "desc = arcpy.Describe(fc)"
   ]
  },
  {
   "cell_type": "markdown",
   "metadata": {},
   "source": [
    "Run the cells below to access some of that information"
   ]
  },
  {
   "cell_type": "code",
   "execution_count": 102,
   "metadata": {},
   "outputs": [
    {
     "data": {
      "text/plain": [
       "'Point'"
      ]
     },
     "execution_count": 102,
     "metadata": {},
     "output_type": "execute_result"
    }
   ],
   "source": [
    "desc.shapeType"
   ]
  },
  {
   "cell_type": "code",
   "execution_count": 103,
   "metadata": {},
   "outputs": [
    {
     "data": {
      "text/plain": [
       "False"
      ]
     },
     "execution_count": 103,
     "metadata": {},
     "output_type": "execute_result"
    }
   ],
   "source": [
    "desc.hasZ"
   ]
  },
  {
   "cell_type": "code",
   "execution_count": 104,
   "metadata": {},
   "outputs": [
    {
     "data": {
      "text/plain": [
       "'GCS_WGS_1984'"
      ]
     },
     "execution_count": 104,
     "metadata": {},
     "output_type": "execute_result"
    }
   ],
   "source": [
    "desc.spatialReference.name"
   ]
  },
  {
   "cell_type": "markdown",
   "metadata": {},
   "source": [
    "In the cells below, use Describe to output the shape type and spatial reference name of the `main.boundary` feature class in the `learn_python` geodatabase."
   ]
  },
  {
   "cell_type": "code",
   "execution_count": null,
   "metadata": {},
   "outputs": [],
   "source": []
  },
  {
   "cell_type": "code",
   "execution_count": null,
   "metadata": {},
   "outputs": [],
   "source": []
  },
  {
   "cell_type": "code",
   "execution_count": null,
   "metadata": {},
   "outputs": [],
   "source": []
  },
  {
   "cell_type": "markdown",
   "metadata": {},
   "source": [
    "### Key takeaway: Assign the Describe output to a variable and access information from that variable."
   ]
  },
  {
   "cell_type": "markdown",
   "metadata": {},
   "source": [
    "## Step 3: Use Describe in a Geoprocessing tool"
   ]
  },
  {
   "attachments": {},
   "cell_type": "markdown",
   "metadata": {},
   "source": [
    "You ever run a geoprocessing tool, and then realized the output was wrong because you misremembered the spatial reference? Then you had to run the tool again, wasting your time and making you feel dumb?\n",
    "\n",
    "An advantage of ArcPy generally, and the Describe function specifically, is that you don't have to remember that kind of stuff. You just tell your script to figure it out. Then you can automatically pass the information to a parameter of a geoprocessing tool, and never get it wrong again.\n",
    "\n",
    "Run the cell below to create a random raster with the same spatial reference and extent as the `main.points` feature class"
   ]
  },
  {
   "cell_type": "code",
   "execution_count": 114,
   "metadata": {},
   "outputs": [],
   "source": [
    "fc = r'learn_python.geodatabase\\main.points'\n",
    "desc = arcpy.Describe(fc)\n",
    "\n",
    "with arcpy.EnvManager(outputCoordinateSystem=desc.spatialReference):\n",
    "    arcpy.management.CreateRandomRaster(\n",
    "        out_path=arcpy.env.workspace,\n",
    "        out_name=\"random.tif\",\n",
    "        raster_extent=desc.extent\n",
    "    )"
   ]
  },
  {
   "cell_type": "markdown",
   "metadata": {},
   "source": [
    "Another big advantage of writing code that references the values from Describe is that it makes it really easy change inputs. \n",
    "\n",
    "Change the code above so that it generates a random raster with the same extent and spatial reference as the `main.boundary` feature class. Hint: you only need to change one word."
   ]
  },
  {
   "cell_type": "markdown",
   "metadata": {},
   "source": [
    "### Key takeaway: Describe makes filling out geoprocessing tool parameters easier"
   ]
  },
  {
   "cell_type": "markdown",
   "metadata": {},
   "source": [
    "## Step 4: Use Describe for flow control"
   ]
  },
  {
   "attachments": {},
   "cell_type": "markdown",
   "metadata": {},
   "source": [
    "Remembering a piece of information is only one part of the problem. You also have to remember what you're supposed to do with that information. Sometimes you have to make choices, or move around to different parts of the workflow depending on the properties of the data you're working with. In a script, we call that flow control.\n",
    "\n",
    "For example, maybe you need to reproject a feature into a state plane coordinate system, but only if it's not already in either state plane or UTM. Without ArcPy, you would:\n",
    "\n",
    "* Right-click the feature class\n",
    "* Choose properties\n",
    "* Check the Spatial Reference\n",
    "* Stop if it was already in state plane or UTM\n",
    "* Run the project tool otherwise\n",
    "\n",
    "This is a common pattern called conditional logic (if this, then do that, otherwise do some other thing). In order to write Python scripts that use conditional logic, you need to use the `if` and `else` statements.\n",
    "\n",
    "Run the cell below to see a simple example of `if` and `else`."
   ]
  },
  {
   "cell_type": "code",
   "execution_count": 119,
   "metadata": {},
   "outputs": [
    {
     "name": "stdout",
     "output_type": "stream",
     "text": [
      "The variable is equal to 7\n"
     ]
    }
   ],
   "source": [
    "val = 7\n",
    "if val == 7:\n",
    "    print(\"The variable is equal to 7\")\n",
    "else:\n",
    "    print(\"The variable is not equal to 7\")"
   ]
  },
  {
   "cell_type": "markdown",
   "metadata": {},
   "source": [
    "You should notice that when assigning values to variables, you use `=`. This is you telling Python what the variable equals. But when you are testing to see whether a variable is equal to a value you use `==`. This is you asking Python what the variable equals. `val = 7` is a statement. `val == 7` is a question.\n",
    "\n",
    "Since the answer to that question is `True` in this case, the code under the `if` block gets executed. If the answer had been `False`, then the code under the `else` block would have been executed instead.\n",
    "\n",
    "Change the code in the cell above so that the statement in the `else` block gets executed. Hint: There are a couple different changes you could make.\n",
    "\n",
    "Besides `==`, the other basic conditional logic operators are:\n",
    "\n",
    "* `>` (is the value on the left greater than the value on the right?)\n",
    "* `<` (is the value on the left less than the value on the right?)\n",
    "* `>=` (is the value on the left greater than or equal to the value on the right?)\n",
    "* `<=` (is the value on the left less than or equal to the value on the right?)\n",
    "* `!=` (is the value on the left not equal to the value on the right?)\n",
    "\n",
    "You can also combine multiple questions:\n",
    "\n",
    "* `or` (at least one is True)\n",
    "* `and` (both are True)\n",
    "\n",
    "Run the cell below to use conditional logic to project a feature class (or not) depending on its spatial reference"
   ]
  },
  {
   "cell_type": "code",
   "execution_count": 142,
   "metadata": {},
   "outputs": [],
   "source": [
    "fc = r\"learn_python.geodatabase\\main.boundary\"\n",
    "desc = arcpy.Describe(fc)\n",
    "id = desc.spatialReference.factoryCode\n",
    "\n",
    "if id == 26915 or id == 26992:\n",
    "    pass\n",
    "else:\n",
    "    arcpy.management.Project(\n",
    "        in_dataset=fc,\n",
    "        out_dataset=\"learn_python.geodatabase\\projected\",\n",
    "        out_coor_system=arcpy.SpatialReference(26992),\n",
    "    )"
   ]
  },
  {
   "cell_type": "markdown",
   "metadata": {},
   "source": [
    "Nothing happened because `main.boundary` is already in one of the acceptable spatial references (`pass` means do nothing). Change the code above to use `main.points` as the input and see what happens."
   ]
  },
  {
   "cell_type": "markdown",
   "metadata": {},
   "source": [
    "### Key takeaway: Describe helps you execute branching logic"
   ]
  },
  {
   "cell_type": "markdown",
   "metadata": {},
   "source": [
    "## Summary"
   ]
  },
  {
   "cell_type": "markdown",
   "metadata": {},
   "source": [
    "It defeats the purpose of automation if you have to right click on feature classes to figure out the right parameters to type in your geoprocessing functions. Get ArcPy to do it for you with the Describe function.\n",
    "\n",
    "Using the output from Describe makes it easier to re-use geoprocessing functions, and it can help you write scripts to change their behavior based on the properties of the data you're working with."
   ]
  }
 ],
 "metadata": {
  "kernelspec": {
   "display_name": "ArcGISPro",
   "language": "Python",
   "name": "python3"
  },
  "language_info": {
   "file_extension": ".py",
   "name": "python",
   "version": "3"
  }
 },
 "nbformat": 4,
 "nbformat_minor": 2
}

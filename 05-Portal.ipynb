{
 "cells": [
  {
   "attachments": {},
   "cell_type": "markdown",
   "metadata": {},
   "source": [
    "# Portal "
   ]
  },
  {
   "attachments": {},
   "cell_type": "markdown",
   "metadata": {},
   "source": [
    "Not all of your GIS resources are available locally. You may have layers, maps, or apps in your ArcGIS Online or ArcGIS Enterprise portal. The ArcGIS API for Python gives you access to tools for working with those resources.\n",
    "\n",
    "The goal of this notebook is to introduce you to some of the analysis and manangement functionality of the ArcGIS API for Python."
   ]
  }
 ],
 "metadata": {
  "language_info": {
   "name": "python"
  },
  "orig_nbformat": 4
 },
 "nbformat": 4,
 "nbformat_minor": 2
}
